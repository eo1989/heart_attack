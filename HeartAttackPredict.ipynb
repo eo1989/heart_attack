{
 "cells": [
  {
   "cell_type": "markdown",
   "metadata": {},
   "source": [
    "## Heart Attack Predictions\n",
    "----------------------------\n",
    "columns:\n",
    "  - pt AGE (years)\n",
    "  - pt SEX (1 = male, 2 = female)\n",
    "  - 'CP' (chest pain)\n",
    "    - 0: typical angina\n",
    "    - 1: atypeical angina\n",
    "    - 2: non-anginal pain\n",
    "    - 3: asymptomatic\n",
    "  - 'TrtBPs': pt's resting bp (mmHg on admit)\n",
    "  - 'Chol': pt's cholesterol (mg/dL)\n",
    "  - 'FBS': fasting blood sugar (> 120 mg/dL, 1 = T, 2 = F)\n",
    "  - 'RestECG': resting ecg results\n",
    "    - 0: probable/definite left ventricular hypertrophy (Estes' criteria)\n",
    "    - 1: normal\n",
    "    - 2: ST-T wave abnormality (T wave inversion &/or ST elevation(stemi)/depression >0.05mV)\n",
    "  - 'Thalachh': pt's max HR achieved\n",
    "  - 'ExAng': exercise induced angina (1 = yes, 2 = no)\n",
    "  - 'OldPeak': ST depression induced by exercise relative to rest\n",
    "  - 'SLP': ST segment slope (at peak exercise)\n",
    "    - 0: sloping up\n",
    "    - 1: flat\n",
    "    - 2: sloping down\n",
    "  - 'CAA': number of major (5) vessels\n",
    "    - Superior/Inferior vena cavae\n",
    "    - Pulmonary artery/vein\n",
    "    - Aorta\n",
    "  - 'Thall': Thalassemia (why is this in here? rather rare condition..)\n",
    "    - 0: NULL (dropped from dataset)\n",
    "    - 1: fixed defect (no blood flow in some part of the heart)\n",
    "    - 2: normal blood flow\n",
    "    - 3: reversible defect (abnormal bloodflow)\n",
    "  - 'Target': target variable or diagnosis of heart disease (angiographic disease status)\n",
    "    - 0: Lower chance of N/STEMI\n",
    "    - 1: Higher chance of N/STEMI"
   ]
  },
  {
   "cell_type": "code",
   "execution_count": null,
   "metadata": {},
   "outputs": [],
   "source": [
    "import pandas as pd\n",
    "import numpy as np\n",
    "import seaborn as sn\n",
    "import plotly.express as px\n",
    "import missingno as mss\n",
    "import matplotlib.pyplot as plt\n",
    "from plotly.subplots import make_subplots\n",
    "import plotly.graph_objects as go\n",
    "import plotly.figure_factory as ff"
   ]
  },
  {
   "cell_type": "code",
   "execution_count": null,
   "metadata": {},
   "outputs": [],
   "source": []
  }
 ],
 "metadata": {
  "interpreter": {
   "hash": "fb3329c66523c60a1c96485aadfb733e8bd7308d68692a981bef59ea8cb39bff"
  },
  "kernelspec": {
   "display_name": "Python 3.9.4 64-bit ('.venv': poetry)",
   "language": "python",
   "name": "python3"
  },
  "language_info": {
   "name": "python",
   "version": "3.9.4"
  },
  "orig_nbformat": 4
 },
 "nbformat": 4,
 "nbformat_minor": 2
}
